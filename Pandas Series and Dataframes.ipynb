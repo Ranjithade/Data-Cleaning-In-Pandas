{
 "cells": [
  {
   "cell_type": "code",
   "execution_count": 1,
   "id": "0496899e",
   "metadata": {},
   "outputs": [],
   "source": [
    "import pandas as pd\n",
    "import numpy as np"
   ]
  },
  {
   "cell_type": "code",
   "execution_count": 2,
   "id": "a99a8292",
   "metadata": {},
   "outputs": [
    {
     "name": "stdout",
     "output_type": "stream",
     "text": [
      "[10 25 35]\n"
     ]
    }
   ],
   "source": [
    "my_list = [10,25,35]\n",
    "\n",
    "x = np.array(my_list)\n",
    "\n",
    "print(x)"
   ]
  },
  {
   "cell_type": "code",
   "execution_count": 3,
   "id": "49ae8dae",
   "metadata": {},
   "outputs": [
    {
     "data": {
      "text/plain": [
       "numpy.ndarray"
      ]
     },
     "execution_count": 3,
     "metadata": {},
     "output_type": "execute_result"
    }
   ],
   "source": [
    "type(x)"
   ]
  },
  {
   "cell_type": "code",
   "execution_count": 4,
   "id": "afa6bb12",
   "metadata": {},
   "outputs": [
    {
     "data": {
      "text/plain": [
       "0    10\n",
       "1    25\n",
       "2    35\n",
       "dtype: int64"
      ]
     },
     "execution_count": 4,
     "metadata": {},
     "output_type": "execute_result"
    }
   ],
   "source": [
    "pd.Series(my_list)"
   ]
  },
  {
   "cell_type": "code",
   "execution_count": 6,
   "id": "257de667",
   "metadata": {},
   "outputs": [],
   "source": [
    "index_values = ['Best','Second Best','Third Best']\n",
    "my_list = [10,25,35]\n",
    "\n",
    "one = pd.Series(data=my_list,index=index_values)"
   ]
  },
  {
   "cell_type": "code",
   "execution_count": 7,
   "id": "58611031",
   "metadata": {},
   "outputs": [],
   "source": [
    "index_values = ['Best','Second Best','Forth Best']\n",
    "my_list = [10,25,40]\n",
    "\n",
    "two = pd.Series(data=my_list,index=index_values)"
   ]
  },
  {
   "cell_type": "code",
   "execution_count": 8,
   "id": "9ccfd575",
   "metadata": {},
   "outputs": [
    {
     "data": {
      "text/plain": [
       "Best           20.0\n",
       "Forth Best      NaN\n",
       "Second Best    50.0\n",
       "Third Best      NaN\n",
       "dtype: float64"
      ]
     },
     "execution_count": 8,
     "metadata": {},
     "output_type": "execute_result"
    }
   ],
   "source": [
    "total = one + two\n",
    "total"
   ]
  },
  {
   "cell_type": "code",
   "execution_count": 9,
   "id": "16ae80cd",
   "metadata": {},
   "outputs": [
    {
     "data": {
      "text/plain": [
       "pandas.core.series.Series"
      ]
     },
     "execution_count": 9,
     "metadata": {},
     "output_type": "execute_result"
    }
   ],
   "source": [
    "type(total)"
   ]
  },
  {
   "cell_type": "code",
   "execution_count": 10,
   "id": "d808f1a4",
   "metadata": {},
   "outputs": [
    {
     "data": {
      "text/html": [
       "<div>\n",
       "<style scoped>\n",
       "    .dataframe tbody tr th:only-of-type {\n",
       "        vertical-align: middle;\n",
       "    }\n",
       "\n",
       "    .dataframe tbody tr th {\n",
       "        vertical-align: top;\n",
       "    }\n",
       "\n",
       "    .dataframe thead th {\n",
       "        text-align: right;\n",
       "    }\n",
       "</style>\n",
       "<table border=\"1\" class=\"dataframe\">\n",
       "  <thead>\n",
       "    <tr style=\"text-align: right;\">\n",
       "      <th></th>\n",
       "      <th>Flavor</th>\n",
       "      <th>Scoops</th>\n",
       "    </tr>\n",
       "  </thead>\n",
       "  <tbody>\n",
       "    <tr>\n",
       "      <th>Flavor 1</th>\n",
       "      <td>MCC</td>\n",
       "      <td>1</td>\n",
       "    </tr>\n",
       "    <tr>\n",
       "      <th>Flavor 2</th>\n",
       "      <td>Butterscotch</td>\n",
       "      <td>2</td>\n",
       "    </tr>\n",
       "    <tr>\n",
       "      <th>Flavor 3</th>\n",
       "      <td>Butter Pecan</td>\n",
       "      <td>3</td>\n",
       "    </tr>\n",
       "  </tbody>\n",
       "</table>\n",
       "</div>"
      ],
      "text/plain": [
       "                Flavor  Scoops\n",
       "Flavor 1           MCC       1\n",
       "Flavor 2  Butterscotch       2\n",
       "Flavor 3  Butter Pecan       3"
      ]
     },
     "execution_count": 10,
     "metadata": {},
     "output_type": "execute_result"
    }
   ],
   "source": [
    "ice_cream = [['MCC',1],['Butterscotch',2],['Butter Pecan',3]]\n",
    "\n",
    "\n",
    "ice_cream_dataframe = pd.DataFrame(ice_cream,index=['Flavor 1','Flavor 2','Flavor 3'], columns=('Flavor','Scoops'))\n",
    "\n",
    "ice_cream_dataframe"
   ]
  },
  {
   "cell_type": "code",
   "execution_count": 11,
   "id": "bad92d79",
   "metadata": {},
   "outputs": [
    {
     "data": {
      "text/plain": [
       "pandas.core.frame.DataFrame"
      ]
     },
     "execution_count": 11,
     "metadata": {},
     "output_type": "execute_result"
    }
   ],
   "source": [
    "type(ice_cream_dataframe)"
   ]
  },
  {
   "cell_type": "code",
   "execution_count": 13,
   "id": "5133801b",
   "metadata": {},
   "outputs": [
    {
     "data": {
      "text/html": [
       "<div>\n",
       "<style scoped>\n",
       "    .dataframe tbody tr th:only-of-type {\n",
       "        vertical-align: middle;\n",
       "    }\n",
       "\n",
       "    .dataframe tbody tr th {\n",
       "        vertical-align: top;\n",
       "    }\n",
       "\n",
       "    .dataframe thead th {\n",
       "        text-align: right;\n",
       "    }\n",
       "</style>\n",
       "<table border=\"1\" class=\"dataframe\">\n",
       "  <thead>\n",
       "    <tr style=\"text-align: right;\">\n",
       "      <th></th>\n",
       "      <th>Flavor</th>\n",
       "      <th>Scoops</th>\n",
       "    </tr>\n",
       "  </thead>\n",
       "  <tbody>\n",
       "    <tr>\n",
       "      <th>Flavor 1</th>\n",
       "      <td>MCC</td>\n",
       "      <td>1</td>\n",
       "    </tr>\n",
       "    <tr>\n",
       "      <th>Flavor 2</th>\n",
       "      <td>Butterscotch</td>\n",
       "      <td>2</td>\n",
       "    </tr>\n",
       "    <tr>\n",
       "      <th>Flavor 3</th>\n",
       "      <td>Butter Pecan</td>\n",
       "      <td>3</td>\n",
       "    </tr>\n",
       "  </tbody>\n",
       "</table>\n",
       "</div>"
      ],
      "text/plain": [
       "                Flavor  Scoops\n",
       "Flavor 1           MCC       1\n",
       "Flavor 2  Butterscotch       2\n",
       "Flavor 3  Butter Pecan       3"
      ]
     },
     "execution_count": 13,
     "metadata": {},
     "output_type": "execute_result"
    }
   ],
   "source": [
    "ice_cream = ['MCC','Butterscotch','Butter Pecan']\n",
    "scoops = [1,2,3]\n",
    "\n",
    "dataframe_icecream = {'Flavor': ice_cream, 'Scoops': scoops}\n",
    "\n",
    "ice_cream_dataframe = pd.DataFrame(dataframe_icecream,index=['Flavor 1','Flavor 2','Flavor 3'] )\n",
    "ice_cream_dataframe"
   ]
  }
 ],
 "metadata": {
  "kernelspec": {
   "display_name": "Python 3 (ipykernel)",
   "language": "python",
   "name": "python3"
  },
  "language_info": {
   "codemirror_mode": {
    "name": "ipython",
    "version": 3
   },
   "file_extension": ".py",
   "mimetype": "text/x-python",
   "name": "python",
   "nbconvert_exporter": "python",
   "pygments_lexer": "ipython3",
   "version": "3.11.5"
  }
 },
 "nbformat": 4,
 "nbformat_minor": 5
}
